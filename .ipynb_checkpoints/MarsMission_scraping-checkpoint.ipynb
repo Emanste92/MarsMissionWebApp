{
 "cells": [
  {
   "cell_type": "markdown",
   "metadata": {},
   "source": [
    "Scraping Process"
   ]
  },
  {
   "cell_type": "code",
   "execution_count": 10,
   "metadata": {},
   "outputs": [],
   "source": [
    "# import packages\n",
    "from bs4 import BeautifulSoup as bs\n",
    "from splinter import Browser\n",
    "import requests\n",
    "import pandas as pd\n",
    "from time import sleep \n",
    "from IPython.core.interactiveshell import InteractiveShell\n",
    "InteractiveShell.ast_node_interactivity = \"all\""
   ]
  },
  {
   "cell_type": "code",
   "execution_count": 18,
   "metadata": {},
   "outputs": [],
   "source": [
    "# splinter setup\n",
    "executable_path = {'executable_path': 'chromedriver.exe'}\n",
    "browser = Browser('chrome', **executable_path, headless=False)"
   ]
  },
  {
   "cell_type": "markdown",
   "metadata": {},
   "source": [
    "NASA Mars News"
   ]
  },
  {
   "cell_type": "code",
   "execution_count": null,
   "metadata": {
    "scrolled": true
   },
   "outputs": [],
   "source": [
    "nasa_url = \"https://mars.nasa.gov/news\"\n",
    "nasa_response = requests.get(nasa_url)\n",
    "# creating bs object\n",
    "nasa_soup = bs(nasa_response.text,'html.parser')\n",
    "\n",
    "# NOTE: For whatever reason with the bs object generated here, the object is not catching \n",
    "# information beyond Nov. 19th's entry. As of Dec. 6, there is  Dec.6 entry. \n",
    "# see prettify object in cell below\n",
    "sleep(10)\n",
    "news_title = nasa_soup.find(\"div\", class_=\"content_title\").find(\"a\").text.strip()\n",
    "news_title\n",
    "\n",
    "news_p = nasa_soup.find(\"div\", class_=\"rollover_description_inner\").text.strip()\n",
    "news_p"
   ]
  },
  {
   "cell_type": "code",
   "execution_count": null,
   "metadata": {
    "scrolled": false
   },
   "outputs": [],
   "source": [
    "# rememeber to unsuppress this\n",
    "\n",
    "# print(nasa_soup.prettify())"
   ]
  },
  {
   "cell_type": "markdown",
   "metadata": {},
   "source": [
    "JPL Mars Space Images"
   ]
  },
  {
   "cell_type": "code",
   "execution_count": 20,
   "metadata": {
    "scrolled": false
   },
   "outputs": [],
   "source": [
    "jpl_url = \"https://www.jpl.nasa.gov/spaceimages/?search=&category=Mars\"\n",
    "browser.visit(jpl_url)\n",
    "html = browser.html\n",
    "browser.click_link_by_partial_text('FULL IMAGE')\n",
    "sleep(5)\n"
   ]
  },
  {
   "cell_type": "code",
   "execution_count": 21,
   "metadata": {},
   "outputs": [],
   "source": [
    "browser.click_link_by_partial_text('more info')\n",
    "sleep(5)\n"
   ]
  },
  {
   "cell_type": "code",
   "execution_count": 24,
   "metadata": {},
   "outputs": [],
   "source": [
    "browser.click_link_by_partial_href('.tif')\n",
    "# make soup on this page, not the homepage\n",
    "\n",
    "# "
   ]
  },
  {
   "cell_type": "code",
   "execution_count": null,
   "metadata": {},
   "outputs": [],
   "source": [
    "print(jpl_soup.prettify())"
   ]
  },
  {
   "cell_type": "markdown",
   "metadata": {},
   "source": [
    "Mars Weather"
   ]
  },
  {
   "cell_type": "code",
   "execution_count": null,
   "metadata": {},
   "outputs": [],
   "source": [
    "weather_url = \"https://twitter.com/marswxreport?lang=en\"\n",
    "weather_response = requests.get(weather_url)\n",
    "weather_soup = bs(weather_response.text,'html.parser')\n",
    "\n",
    "weather_report = weather_soup.find_all(\"div\", class_=\"js-tweet-text-container\")[1].find(\"p\", class_=\"tweet-text\").text.strip()\n",
    "weather_report\n",
    "\n",
    "# don't see the logic here on how to extract the weather string, especially when this is a feed and how do I know if \n",
    "# I'm extracting the most recent weather, do I have to do a string for loop thing\n",
    "# just extracted the exact point on the page, which can change with a new entry"
   ]
  },
  {
   "cell_type": "code",
   "execution_count": null,
   "metadata": {},
   "outputs": [],
   "source": [
    "# for loop with index searching (substring argument searchin)\n",
    "\n",
    "# python search by .index\n",
    "\n",
    "# finding .index('sol'), day, night, etc."
   ]
  },
  {
   "cell_type": "code",
   "execution_count": null,
   "metadata": {},
   "outputs": [],
   "source": [
    "print(weather_soup.prettify())"
   ]
  },
  {
   "cell_type": "markdown",
   "metadata": {},
   "source": [
    "Mars Facts"
   ]
  },
  {
   "cell_type": "code",
   "execution_count": null,
   "metadata": {},
   "outputs": [],
   "source": [
    "facts_url = \"https://space-facts.com/mars/\"\n",
    "fact_table_extract = pd.read_html(facts_url)\n",
    "fact_table = fact_table_extract[0]\n",
    "fact_table.columns = ['Fact', 'Value']\n",
    "fact_table"
   ]
  },
  {
   "cell_type": "markdown",
   "metadata": {},
   "source": [
    "Mars Hemispheres"
   ]
  },
  {
   "cell_type": "code",
   "execution_count": null,
   "metadata": {},
   "outputs": [],
   "source": [
    "hemispheres_url = \"https://astrogeology.usgs.gov/search/results?q=hemisphere+enhanced&k1=target&v1=Mars\"\n",
    "browser.visit(hemispheres_url)\n",
    "html = browser.html\n",
    "hemispheres_soup = bs(html, 'html.parser')\n",
    "\n",
    "print(hemispheres_soup.prettify())\n",
    "\n",
    "# make a list out of the four div class=\"item\", a.text, a.href\n",
    "\n",
    "\n",
    "hemisphere_image_urls = []\n",
    "\n",
    "\n"
   ]
  },
  {
   "cell_type": "code",
   "execution_count": null,
   "metadata": {},
   "outputs": [],
   "source": [
    "# for loop\n",
    "# browser.back()\n",
    "\n",
    "# scrape craigslist exercise for reference \n",
    "\n",
    "# make soup first\n",
    "# store in a list the div items \n",
    "# for link in links_list that I'm gonna try to make\n",
    "\n",
    "# div class= items, there are 4 on the page\n",
    "# partial text click with \"enhanced\"\n",
    "# get link for link with \"original\"\n",
    "# with find link by text"
   ]
  },
  {
   "cell_type": "code",
   "execution_count": null,
   "metadata": {},
   "outputs": [],
   "source": []
  }
 ],
 "metadata": {
  "kernelspec": {
   "display_name": "Python 3",
   "language": "python",
   "name": "python3"
  },
  "language_info": {
   "codemirror_mode": {
    "name": "ipython",
    "version": 3
   },
   "file_extension": ".py",
   "mimetype": "text/x-python",
   "name": "python",
   "nbconvert_exporter": "python",
   "pygments_lexer": "ipython3",
   "version": "3.7.1"
  }
 },
 "nbformat": 4,
 "nbformat_minor": 2
}
